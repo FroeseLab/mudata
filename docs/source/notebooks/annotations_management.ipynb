{
 "cells": [
  {
   "cell_type": "markdown",
   "id": "e6cec5b2-ddb5-4034-b891-6b242839e6a6",
   "metadata": {},
   "source": [
    "# Managing annotations\n",
    "\n",
    "`MuData` objects have multimodal annotations stored in the same way as `AnnData` objects. For instance, observations are annotated using the `.obs` table, and variables are annotated usign the `.var` table.\n",
    "\n",
    "As observations and variables of the `MuData` object are derived from observations and variables of individual modalities, it can be useful to copy or to move annotations between the global table and the tables of individual modalities tables.\n",
    "\n",
    "For this, `mudata` offers `.pull_obs()` / `.pull_var()` methods to copy metadata from individual modalities to the global annotation (`.obs` or `.var`). The opposite flow of metadata — from global metadata to individual modalities — can be achieved with `.push_obs()` / `.push_var()` methods."
   ]
  },
  {
   "cell_type": "code",
   "execution_count": 1,
   "id": "d3ad493e-5be2-4ed4-9c2d-547e1f9532ff",
   "metadata": {},
   "outputs": [],
   "source": [
    "import numpy as np\n",
    "import pandas as pd\n",
    "from mudata import *"
   ]
  },
  {
   "cell_type": "markdown",
   "id": "e0cd288f-651f-403f-a105-f723fe9f6120",
   "metadata": {},
   "source": [
    " "
   ]
  },
  {
   "cell_type": "markdown",
   "id": "747475df-ae23-4bbf-b355-f31723d88a91",
   "metadata": {},
   "source": [
    "## Annotations in multimodal objects\n",
    "\n",
    "### Pulling annotations\n",
    "\n",
    "There are a few parameters that can help to specify which annotations to be pulled. Generally, there are two ways of specifying the annotation columnns: providing them explicitely with `columns=[...]` and providing the types of columns to be pulled (e.g. `common` or `unique`)."
   ]
  },
  {
   "cell_type": "markdown",
   "id": "1b2b6623-53f0-4ef8-8bfa-1085a59bfb48",
   "metadata": {},
   "source": [
    "#### Pulling feature annotations with `.pull_var()`"
   ]
  },
  {
   "cell_type": "markdown",
   "id": "7bc6a4e0-942c-4883-92ef-c6e24fe4442f",
   "metadata": {},
   "source": [
    "For demonstration purposes, we will use a simple `MuData` object with some annotations for the features:"
   ]
  },
  {
   "cell_type": "code",
   "execution_count": 2,
   "id": "dd1b4d94-2aa3-42a3-bb68-83af9c998475",
   "metadata": {
    "tags": []
   },
   "outputs": [],
   "source": [
    "def make_mdata():\n",
    "    N = 100\n",
    "    D1, D2, D3 = 10, 20, 30\n",
    "    D = D1 + D2 + D3\n",
    "\n",
    "    mod1 = AnnData(np.arange(0, 100, 0.1).reshape(-1, D1))\n",
    "    mod1.obs_names = [f\"obs{i}\" for i in range(mod1.n_obs)]\n",
    "    mod1.var_names = [f\"var{i}\" for i in range(D1)]\n",
    "\n",
    "    mod2 = AnnData(np.arange(3101, 5101, 1).reshape(-1, D2))\n",
    "    mod2.obs_names = mod1.obs_names.copy()\n",
    "    mod2.var_names = [f\"var{i}\" for i in range(D1, D1 + D2)]\n",
    "\n",
    "    mod3 = AnnData(np.arange(5101, 8101, 1).reshape(-1, D3))\n",
    "    mod3.obs_names = mod1.obs_names.copy()\n",
    "    mod3.var_names = [f\"var{i}\" for i in range(D1 + D2, D)]\n",
    "\n",
    "    # common column already present in all modalities\n",
    "    mod1.var[\"highly_variable\"] = True\n",
    "    mod2.var[\"highly_variable\"] = np.tile([False, True], D2 // 2)\n",
    "    mod3.var[\"highly_variable\"] = np.tile([True, False], D3 // 2)\n",
    "\n",
    "    # column present in some (2 out of 3) modalities (non-unique)\n",
    "    mod2.var[\"arange\"] = np.arange(D2)\n",
    "    mod3.var[\"arange\"] = np.arange(D3)\n",
    "\n",
    "    # column present in one modality (unique)\n",
    "    mod3.var[\"is_region\"] = True\n",
    "\n",
    "    mdata = MuData({\"mod1\": mod1, \"mod2\": mod2, \"mod3\": mod3})\n",
    "    return mdata"
   ]
  },
  {
   "cell_type": "code",
   "execution_count": 3,
   "id": "8ef9e471-2cd7-4bc5-a70a-f7b9cf9046f7",
   "metadata": {},
   "outputs": [],
   "source": [
    "mdata = make_mdata()\n",
    "# TODO: shouldn't be needed from 0.4\n",
    "# mdata.update(pull=False)\n",
    "mdata.var = mdata.var.loc[:,[]]"
   ]
  },
  {
   "cell_type": "code",
   "execution_count": 4,
   "id": "5195c44c-a783-4421-a0c6-f7a29789f58d",
   "metadata": {},
   "outputs": [
    {
     "data": {
      "text/html": [
       "<pre>MuData object with n_obs × n_vars = 100 × 60\n",
       "  3 modalities\n",
       "    mod1:\t100 x 10\n",
       "      var:\t&#x27;highly_variable&#x27;\n",
       "    mod2:\t100 x 20\n",
       "      var:\t&#x27;highly_variable&#x27;, &#x27;arange&#x27;\n",
       "    mod3:\t100 x 30\n",
       "      var:\t&#x27;highly_variable&#x27;, &#x27;arange&#x27;, &#x27;is_region&#x27;</pre>"
      ],
      "text/plain": [
       "MuData object with n_obs × n_vars = 100 × 60\n",
       "  3 modalities\n",
       "    mod1:\t100 x 10\n",
       "      var:\t'highly_variable'\n",
       "    mod2:\t100 x 20\n",
       "      var:\t'highly_variable', 'arange'\n",
       "    mod3:\t100 x 30\n",
       "      var:\t'highly_variable', 'arange', 'is_region'"
      ]
     },
     "execution_count": 4,
     "metadata": {},
     "output_type": "execute_result"
    }
   ],
   "source": [
    "mdata"
   ]
  },
  {
   "cell_type": "markdown",
   "id": "47aacca7-0cda-46bc-8097-8ce837700308",
   "metadata": {},
   "source": [
    "**All columns.** By default, all columns will be pulled:"
   ]
  },
  {
   "cell_type": "code",
   "execution_count": 5,
   "id": "0e9753e8-5b78-4e63-822e-5471e0750663",
   "metadata": {},
   "outputs": [
    {
     "data": {
      "text/plain": [
       "highly_variable    boolean\n",
       "arange             float64\n",
       "mod3:is_region     boolean\n",
       "dtype: object"
      ]
     },
     "execution_count": 5,
     "metadata": {},
     "output_type": "execute_result"
    }
   ],
   "source": [
    "mdata.pull_var(join_nonunique=True)\n",
    "mdata.var.dtypes"
   ]
  },
  {
   "cell_type": "code",
   "execution_count": 6,
   "id": "edeeab9f-61c4-4ea3-af48-6c02957a76d0",
   "metadata": {},
   "outputs": [],
   "source": [
    "# Clean up\n",
    "mdata.var = mdata.var.loc[:,[]]"
   ]
  },
  {
   "cell_type": "markdown",
   "id": "81f13ddb-b6ce-42f3-aaa0-42c0929bf41a",
   "metadata": {},
   "source": [
    "**`columns=...`** Individual columns can be specified to be used in this operation. Both `colname` and `modname:colname` formats are supported.\n",
    "\n",
    "A column that is present across modalities will be pulled from all the modalities:"
   ]
  },
  {
   "cell_type": "code",
   "execution_count": 7,
   "id": "e5b8c1c2-1508-45f9-8baa-dae80b932faf",
   "metadata": {},
   "outputs": [
    {
     "name": "stdout",
     "output_type": "stream",
     "text": [
      "60 values in mdata.var.highly_variable\n"
     ]
    },
    {
     "data": {
      "text/plain": [
       "highly_variable    boolean\n",
       "dtype: object"
      ]
     },
     "execution_count": 7,
     "metadata": {},
     "output_type": "execute_result"
    }
   ],
   "source": [
    "mdata.pull_var(columns=[\"highly_variable\"])\n",
    "print(f\"{(~pd.isnull(mdata.var.highly_variable)).sum()} values in mdata.var.highly_variable\")\n",
    "mdata.var.dtypes"
   ]
  },
  {
   "cell_type": "code",
   "execution_count": 8,
   "id": "07391006-74cb-4376-a0d6-b4515bbf485c",
   "metadata": {},
   "outputs": [],
   "source": [
    "mdata.var = mdata.var.loc[:,[]]"
   ]
  },
  {
   "cell_type": "markdown",
   "id": "a44bf092-9cbb-42d0-80a0-4a3ef38edf2f",
   "metadata": {},
   "source": [
    "Pull particular columns, e.g. a single column from a specified modality:"
   ]
  },
  {
   "cell_type": "code",
   "execution_count": 9,
   "id": "c02bddf0-1014-4c5d-a773-11137d517e99",
   "metadata": {},
   "outputs": [
    {
     "name": "stdout",
     "output_type": "stream",
     "text": [
      "20 values in mdata.var['mod2:highly_variable']\n"
     ]
    },
    {
     "data": {
      "text/plain": [
       "mod2:highly_variable    boolean\n",
       "dtype: object"
      ]
     },
     "execution_count": 9,
     "metadata": {},
     "output_type": "execute_result"
    }
   ],
   "source": [
    "mdata.pull_var(columns=[\"mod2:highly_variable\"])\n",
    "print(f\"{(~pd.isnull(mdata.var['mod2:highly_variable'])).sum()} values in mdata.var['mod2:highly_variable']\")\n",
    "mdata.var.dtypes"
   ]
  },
  {
   "cell_type": "code",
   "execution_count": 10,
   "id": "d880a66e-9845-42cb-bcb8-fd724845798e",
   "metadata": {},
   "outputs": [],
   "source": [
    "mdata.var = mdata.var.loc[:,[]]"
   ]
  },
  {
   "cell_type": "markdown",
   "id": "328f93ff-c284-41b0-a2c6-e447e6dcb287",
   "metadata": {},
   "source": [
    "As a result, `mdata.var['mod2:highly_variable']` will be [a nullable boolean array](https://pandas.pydata.org/docs/user_guide/boolean.html) with corresponding values from `mdata['mod2'].var.highly_variable`. \n",
    "The value of `highly_variable` for features from other modalities is `NA`."
   ]
  },
  {
   "cell_type": "markdown",
   "id": "0d58fac8-aedf-40f8-bf6f-a32f8e87a93c",
   "metadata": {},
   "source": [
    "**`common`, `nonunique`, `unique`** Note that the *common* annotation is now prefixed with a modality name as it is has been requested from a limited set of modalities. In this case it behaves similarly to a *unique* column such as `is_region` in the `mod3`. The third type of annotations is *non-unique* — those are the ones that are present in some but not all modalities. "
   ]
  },
  {
   "cell_type": "code",
   "execution_count": 11,
   "id": "7b36de7a-e50f-4282-921a-ddcbe3f06cde",
   "metadata": {},
   "outputs": [
    {
     "data": {
      "text/plain": [
       "highly_variable    boolean\n",
       "mod2:arange        float64\n",
       "mod3:arange        float64\n",
       "dtype: object"
      ]
     },
     "execution_count": 11,
     "metadata": {},
     "output_type": "execute_result"
    }
   ],
   "source": [
    "mdata.pull_var(common=True, nonunique=True, unique=False)\n",
    "mdata.var.dtypes"
   ]
  },
  {
   "cell_type": "code",
   "execution_count": 12,
   "id": "23149791-dacf-4f44-9e8a-26097b99e23a",
   "metadata": {},
   "outputs": [],
   "source": [
    "mdata.var = mdata.var.loc[:,[]]"
   ]
  },
  {
   "cell_type": "markdown",
   "id": "301f3a35-c1c6-4c05-8499-992ed9adc584",
   "metadata": {},
   "source": [
    " "
   ]
  },
  {
   "cell_type": "markdown",
   "id": "4827b521-8b52-429d-b3a7-b752c5e34732",
   "metadata": {},
   "source": [
    "This makes it possible to pull only unique, i.e. modality-specific, columns:"
   ]
  },
  {
   "cell_type": "code",
   "execution_count": 13,
   "id": "366f4ebd-90ee-448c-93d0-209a5ec7f438",
   "metadata": {},
   "outputs": [
    {
     "data": {
      "text/plain": [
       "mod3:is_region    boolean\n",
       "dtype: object"
      ]
     },
     "execution_count": 13,
     "metadata": {},
     "output_type": "execute_result"
    }
   ],
   "source": [
    "# unique column\n",
    "mdata.pull_var(unique=True, common=False, nonunique=False)\n",
    "mdata.var.dtypes"
   ]
  },
  {
   "cell_type": "code",
   "execution_count": 14,
   "id": "9db5e38d-ddfb-44cb-8696-9ea7e8bcdc52",
   "metadata": {},
   "outputs": [],
   "source": [
    "mdata.var = mdata.var.loc[:,[]]"
   ]
  },
  {
   "cell_type": "markdown",
   "id": "94eb0580-816e-4e02-b714-1987e64c6f4f",
   "metadata": {},
   "source": [
    "... just as it is possible to pull a specific *unique* column without specifying the modality name:"
   ]
  },
  {
   "cell_type": "code",
   "execution_count": 15,
   "id": "60fc2104-9387-4339-a92c-ea62c9cfd37a",
   "metadata": {},
   "outputs": [
    {
     "data": {
      "text/plain": [
       "mod3:is_region    boolean\n",
       "dtype: object"
      ]
     },
     "execution_count": 15,
     "metadata": {},
     "output_type": "execute_result"
    }
   ],
   "source": [
    "# unique column\n",
    "mdata.pull_var(columns=[\"is_region\"])\n",
    "mdata.var.dtypes"
   ]
  },
  {
   "cell_type": "code",
   "execution_count": 16,
   "id": "bcf008ba-68a1-4d30-9406-4485420a5509",
   "metadata": {},
   "outputs": [],
   "source": [
    "mdata.var = mdata.var.loc[:,[]]"
   ]
  },
  {
   "cell_type": "markdown",
   "id": "545ef8a1-6531-4871-b95c-5ac6b3c15bf6",
   "metadata": {},
   "source": [
    " "
   ]
  },
  {
   "cell_type": "markdown",
   "id": "bb1fb44d-00c8-483d-b405-235119f53c39",
   "metadata": {},
   "source": [
    "**`join_common=..., join_nonunique=...`** Use `join_common=False` and `join_nonunique=True` to change if the annotations are collated across modalities. Unique columns are always prefixed by modality name."
   ]
  },
  {
   "cell_type": "markdown",
   "id": "ff239de0-7bdc-412c-8208-c7dafab25e9b",
   "metadata": {},
   "source": [
    "Compare `join_nonunique=False`:"
   ]
  },
  {
   "cell_type": "code",
   "execution_count": 17,
   "id": "05451a83-f1ad-4165-927a-e6d758bca21f",
   "metadata": {},
   "outputs": [
    {
     "data": {
      "text/plain": [
       "mod2:arange    float64\n",
       "mod3:arange    float64\n",
       "dtype: object"
      ]
     },
     "execution_count": 17,
     "metadata": {},
     "output_type": "execute_result"
    }
   ],
   "source": [
    "mdata.pull_var(columns=[\"arange\"], join_nonunique=False)\n",
    "mdata.var.dtypes"
   ]
  },
  {
   "cell_type": "code",
   "execution_count": 18,
   "id": "b32ecc09-4fc2-4bd7-a207-f9c1fe07dc03",
   "metadata": {},
   "outputs": [],
   "source": [
    "mdata.var = mdata.var.loc[:,[]]"
   ]
  },
  {
   "cell_type": "markdown",
   "id": "256b8a4b-00c0-4740-b8e6-122a252821c5",
   "metadata": {},
   "source": [
    "— with `join_nonunique=True`:"
   ]
  },
  {
   "cell_type": "code",
   "execution_count": 19,
   "id": "0be1f9b0-65fb-4166-8495-73d6bd9887d2",
   "metadata": {},
   "outputs": [
    {
     "data": {
      "text/plain": [
       "arange    float64\n",
       "dtype: object"
      ]
     },
     "execution_count": 19,
     "metadata": {},
     "output_type": "execute_result"
    }
   ],
   "source": [
    "mdata.pull_var(columns=[\"arange\"], join_nonunique=True)\n",
    "mdata.var.dtypes"
   ]
  },
  {
   "cell_type": "code",
   "execution_count": 20,
   "id": "b0a789b3-b2f4-433d-8d22-7859ba710ae6",
   "metadata": {},
   "outputs": [],
   "source": [
    "mdata.var = mdata.var.loc[:,[]]"
   ]
  },
  {
   "cell_type": "markdown",
   "id": "02752683-14ee-4d46-9274-0afc89dc95a4",
   "metadata": {},
   "source": [
    " "
   ]
  },
  {
   "cell_type": "markdown",
   "id": "a005f792-8a1e-4ba3-87e3-df9d14090483",
   "metadata": {},
   "source": [
    "**`mods=...`** It is also possible to limit the amount of modalities to pull columns from. For example, `columns=[\"mod1:highly_variable\", \"mod3:highly_variable\"]` can also be expressed as"
   ]
  },
  {
   "cell_type": "code",
   "execution_count": 21,
   "id": "80dbfa94-e84a-4cd5-89c5-a6856d0b44e0",
   "metadata": {},
   "outputs": [
    {
     "data": {
      "text/plain": [
       "mod1:highly_variable    boolean\n",
       "mod3:highly_variable    boolean\n",
       "dtype: object"
      ]
     },
     "execution_count": 21,
     "metadata": {},
     "output_type": "execute_result"
    }
   ],
   "source": [
    "mdata.pull_var(columns=[\"highly_variable\"], mods=[\"mod1\", \"mod3\"])\n",
    "mdata.var.dtypes"
   ]
  },
  {
   "cell_type": "code",
   "execution_count": 22,
   "id": "80e795ab-5565-421d-b562-d41fb0d35ece",
   "metadata": {},
   "outputs": [],
   "source": [
    "mdata.var = mdata.var.loc[:,[]]"
   ]
  },
  {
   "cell_type": "markdown",
   "id": "d283adaa-8c1c-49bf-b26e-a2941cc8d243",
   "metadata": {},
   "source": [
    " "
   ]
  },
  {
   "cell_type": "markdown",
   "id": "803601f7-8858-40fa-9f90-623b323f4548",
   "metadata": {},
   "source": [
    "Last but not least, columns can be automatically dropped from source."
   ]
  },
  {
   "cell_type": "code",
   "execution_count": 23,
   "id": "07a46c0f-7c30-4882-a540-fcaee07902aa",
   "metadata": {},
   "outputs": [
    {
     "data": {
      "text/plain": [
       "highly_variable    boolean\n",
       "dtype: object"
      ]
     },
     "execution_count": 23,
     "metadata": {},
     "output_type": "execute_result"
    }
   ],
   "source": [
    "mdata.pull_var(nonunique=False, unique=False, drop=True)\n",
    "mdata.var.dtypes"
   ]
  },
  {
   "cell_type": "markdown",
   "id": "069cd752-9278-4ec7-bb13-8b32b5df7bbf",
   "metadata": {},
   "source": [
    "The `highly_variable` label has thus been effectively moved from the individual modalities to the global annotation:"
   ]
  },
  {
   "cell_type": "code",
   "execution_count": 24,
   "id": "d84e915a-d9e3-41a8-9b21-3480a9b83914",
   "metadata": {},
   "outputs": [
    {
     "name": "stdout",
     "output_type": "stream",
     "text": [
      "False\n",
      "False\n",
      "False\n"
     ]
    }
   ],
   "source": [
    "for mod in mdata.mod.values():\n",
    "    print(\"highly_variable\" in mod.var.columns)"
   ]
  },
  {
   "cell_type": "markdown",
   "id": "a59b756a-e5a3-4e81-b1e7-b062129c077c",
   "metadata": {},
   "source": [
    " "
   ]
  },
  {
   "cell_type": "markdown",
   "id": "c945a08b-236a-474c-9ad3-2980080a5c8d",
   "metadata": {},
   "source": [
    "#### Pulling samples annotations with `.pull_obs()`"
   ]
  },
  {
   "cell_type": "markdown",
   "id": "27c68531-30cb-4899-b824-7e6b28c9d68c",
   "metadata": {},
   "source": [
    "Annotating individual observations is one of the key steps of analytical workflows. For instance, in single-cell sequencing datasets, observations are individual cells, and annotating their identity (cell type, cell state, etc.) as well as managing their source (tissue, organ, donor identity, species) are pivotal for understainding the underlying biology. Those operations are also complicated by multi-layered structure of multimodal datasets.\n",
    "\n",
    "The `.pull_obs()` method of `MuData` aims to abstract this complexity away.\n",
    "\n",
    "For demonstration purposes, we will use a simple `MuData` object with some annotations for the observations:"
   ]
  },
  {
   "cell_type": "code",
   "execution_count": 25,
   "id": "fc931a80-731f-4b8b-ba72-57b6fad378ea",
   "metadata": {
    "tags": []
   },
   "outputs": [],
   "source": [
    "def make_mdata():\n",
    "    N = 100\n",
    "    D1, D2, D3 = 10, 20, 30\n",
    "    D = D1 + D2 + D3\n",
    "\n",
    "    mod1 = AnnData(np.arange(0, 100, 0.1).reshape(-1, D1))\n",
    "    mod1.obs_names = [f\"obs{i}\" for i in range(mod1.n_obs)]\n",
    "    mod1.var_names = [f\"var{i}\" for i in range(D1)]\n",
    "\n",
    "    mod2 = AnnData(np.arange(3101, 5101, 1).reshape(-1, D2))\n",
    "    mod2.obs_names = mod1.obs_names.copy()\n",
    "    mod2.var_names = [f\"var{i}\" for i in range(D1, D1 + D2)]\n",
    "\n",
    "    mod3 = AnnData(np.arange(5101, 8101, 1).reshape(-1, D3))\n",
    "    mod3.obs_names = mod1.obs_names.copy()\n",
    "    mod3.var_names = [f\"var{i}\" for i in range(D1 + D2, D)]\n",
    "\n",
    "    # common column already present in all modalities\n",
    "    mod1.obs[\"qc\"] = True\n",
    "    mod2.obs[\"qc\"] = True\n",
    "    mod3.obs[\"qc\"] = np.tile([True, False], N // 2)\n",
    "\n",
    "    # column present in some (2 out of 3) modalities (non-unique)\n",
    "    mod2.obs[\"arange\"] = np.arange(N)\n",
    "    mod3.obs[\"arange\"] = np.arange(N, 2*N)\n",
    "\n",
    "    # column present in one modality (unique)\n",
    "    mod3.obs[\"mod3_cell\"] = True\n",
    "\n",
    "    mdata = MuData({\"mod1\": mod1, \"mod2\": mod2, \"mod3\": mod3})\n",
    "    return mdata"
   ]
  },
  {
   "cell_type": "code",
   "execution_count": 26,
   "id": "99d595e2-54db-4e89-a40e-50c264832955",
   "metadata": {},
   "outputs": [],
   "source": [
    "mdata = make_mdata()\n",
    "# TODO: shouldn't be needed from 0.4\n",
    "# mdata.update(pull=False)\n",
    "mdata.obs = mdata.obs.loc[:,[]]"
   ]
  },
  {
   "cell_type": "code",
   "execution_count": 27,
   "id": "8d3c804c-81ec-4fe7-97b6-48b0938c9e7d",
   "metadata": {},
   "outputs": [
    {
     "data": {
      "text/html": [
       "<pre>MuData object with n_obs × n_vars = 100 × 60\n",
       "  3 modalities\n",
       "    mod1:\t100 x 10\n",
       "      obs:\t&#x27;qc&#x27;\n",
       "    mod2:\t100 x 20\n",
       "      obs:\t&#x27;qc&#x27;, &#x27;arange&#x27;\n",
       "    mod3:\t100 x 30\n",
       "      obs:\t&#x27;qc&#x27;, &#x27;arange&#x27;, &#x27;mod3_cell&#x27;</pre>"
      ],
      "text/plain": [
       "MuData object with n_obs × n_vars = 100 × 60\n",
       "  3 modalities\n",
       "    mod1:\t100 x 10\n",
       "      obs:\t'qc'\n",
       "    mod2:\t100 x 20\n",
       "      obs:\t'qc', 'arange'\n",
       "    mod3:\t100 x 30\n",
       "      obs:\t'qc', 'arange', 'mod3_cell'"
      ]
     },
     "execution_count": 27,
     "metadata": {},
     "output_type": "execute_result"
    }
   ],
   "source": [
    "mdata"
   ]
  },
  {
   "cell_type": "markdown",
   "id": "8cb53629-810d-445c-a651-06bb6a9eaf28",
   "metadata": {},
   "source": [
    " "
   ]
  },
  {
   "cell_type": "markdown",
   "id": "2e34453b-9a56-4ad5-994f-4e1dd372dbd5",
   "metadata": {},
   "source": [
    "In a multimodal object, observations are shared across modalities. For this reason, `join_*` arguments cannot be set to `True`, and the annotations will always be prefixed with a modality name. Apart from this, the underlying implementation as well as the available parameters are the same as demonstrated above for `.var`."
   ]
  },
  {
   "cell_type": "markdown",
   "id": "3bfdbd1f-7344-47a1-afb1-36052aa145d4",
   "metadata": {},
   "source": [
    " "
   ]
  },
  {
   "cell_type": "markdown",
   "id": "4a7e0bd6-52df-49b9-a7aa-f2d5d72e6121",
   "metadata": {},
   "source": [
    "**All columns.** By default, all columns will be pulled:"
   ]
  },
  {
   "cell_type": "code",
   "execution_count": 28,
   "id": "84c18448-88dc-4811-a213-118b06fd1091",
   "metadata": {},
   "outputs": [
    {
     "data": {
      "text/plain": [
       "mod1:qc           boolean\n",
       "mod2:arange         int64\n",
       "mod2:qc           boolean\n",
       "mod3:arange         int64\n",
       "mod3:mod3_cell    boolean\n",
       "mod3:qc           boolean\n",
       "dtype: object"
      ]
     },
     "execution_count": 28,
     "metadata": {},
     "output_type": "execute_result"
    }
   ],
   "source": [
    "mdata.pull_obs()\n",
    "mdata.obs.dtypes"
   ]
  },
  {
   "cell_type": "code",
   "execution_count": 29,
   "id": "4417314f-cd87-4564-b41e-a28f21b4ab31",
   "metadata": {},
   "outputs": [],
   "source": [
    "# Clean up\n",
    "mdata.obs = mdata.obs.loc[:,[]]"
   ]
  },
  {
   "cell_type": "markdown",
   "id": "e2d1c65d-1e9d-41a2-bd2c-075bb2b72230",
   "metadata": {},
   "source": [
    " "
   ]
  },
  {
   "cell_type": "markdown",
   "id": "70173353-44d3-4738-876d-afe189a05605",
   "metadata": {},
   "source": [
    "**`columns=...`** Individual columns can be specified to be used in this operation. Both `colname` and `modname:colname` formats are supported.\n",
    "\n",
    "A column that is present across modalities will be pulled from all the modalities:"
   ]
  },
  {
   "cell_type": "code",
   "execution_count": 30,
   "id": "69b628f4-1235-4595-a994-db71a640d0f2",
   "metadata": {},
   "outputs": [
    {
     "data": {
      "text/plain": [
       "mod1:qc    boolean\n",
       "mod2:qc    boolean\n",
       "mod3:qc    boolean\n",
       "dtype: object"
      ]
     },
     "execution_count": 30,
     "metadata": {},
     "output_type": "execute_result"
    }
   ],
   "source": [
    "mdata.pull_obs(columns=[\"qc\"])\n",
    "mdata.obs.dtypes"
   ]
  },
  {
   "cell_type": "code",
   "execution_count": 31,
   "id": "38fa3a04-3c08-45d5-900d-a353fddd5f9b",
   "metadata": {},
   "outputs": [],
   "source": [
    "mdata.obs = mdata.obs.loc[:,[]]"
   ]
  },
  {
   "cell_type": "markdown",
   "id": "9a52661a-18be-4ec2-9951-fa04e94e2745",
   "metadata": {},
   "source": [
    "Pull particular columns, e.g. a single column from a specified modality:"
   ]
  },
  {
   "cell_type": "code",
   "execution_count": 32,
   "id": "25ba4045-75f2-4340-9ca8-585e548e7b84",
   "metadata": {},
   "outputs": [
    {
     "data": {
      "text/plain": [
       "mod2:qc    boolean\n",
       "dtype: object"
      ]
     },
     "execution_count": 32,
     "metadata": {},
     "output_type": "execute_result"
    }
   ],
   "source": [
    "mdata.pull_obs(columns=[\"mod2:qc\"])\n",
    "mdata.obs.dtypes"
   ]
  },
  {
   "cell_type": "code",
   "execution_count": 33,
   "id": "15ef44a1-3ac4-488c-baf1-7006cbcbe8ce",
   "metadata": {},
   "outputs": [],
   "source": [
    "mdata.obs = mdata.obs.loc[:,[]]"
   ]
  },
  {
   "cell_type": "markdown",
   "id": "deb50990-98bf-4a09-896b-0aabd0e587ad",
   "metadata": {},
   "source": [
    " "
   ]
  },
  {
   "cell_type": "markdown",
   "id": "3d23938b-5da7-48be-b199-54163a0c7a14",
   "metadata": {},
   "source": [
    "**`common`, `nonunique`, `unique`** Column types are deduced according to the presence in all / some / single modality(-ies). Because of the sharedness structure, they will all be prefixed by a modality name:"
   ]
  },
  {
   "cell_type": "code",
   "execution_count": 34,
   "id": "e7a2bd9d-2276-4a4c-a4a7-031bf4c0c74c",
   "metadata": {},
   "outputs": [
    {
     "data": {
      "text/plain": [
       "mod1:qc        boolean\n",
       "mod2:arange      int64\n",
       "mod2:qc        boolean\n",
       "mod3:arange      int64\n",
       "mod3:qc        boolean\n",
       "dtype: object"
      ]
     },
     "execution_count": 34,
     "metadata": {},
     "output_type": "execute_result"
    }
   ],
   "source": [
    "mdata.pull_obs(common=True, nonunique=True, unique=False)\n",
    "mdata.obs.dtypes"
   ]
  },
  {
   "cell_type": "code",
   "execution_count": 35,
   "id": "81f03c84-c8d1-4c7d-b433-678ec9d9942a",
   "metadata": {},
   "outputs": [],
   "source": [
    "mdata.obs = mdata.obs.loc[:,[]]"
   ]
  },
  {
   "cell_type": "markdown",
   "id": "b19d1863-4d3a-4898-8535-00010aa0aa16",
   "metadata": {},
   "source": [
    " "
   ]
  },
  {
   "cell_type": "markdown",
   "id": "02a23c2e-576b-422f-b65e-255f2195415b",
   "metadata": {},
   "source": [
    "So it is possible to pull only unique, i.e. modality-specific, columns:"
   ]
  },
  {
   "cell_type": "code",
   "execution_count": 36,
   "id": "0a1c6b2a-8149-4712-a4a6-ef012e3679e0",
   "metadata": {},
   "outputs": [
    {
     "data": {
      "text/plain": [
       "mod3:mod3_cell    boolean\n",
       "dtype: object"
      ]
     },
     "execution_count": 36,
     "metadata": {},
     "output_type": "execute_result"
    }
   ],
   "source": [
    "# unique column\n",
    "mdata.pull_obs(unique=True, common=False, nonunique=False)\n",
    "mdata.obs.dtypes"
   ]
  },
  {
   "cell_type": "code",
   "execution_count": 37,
   "id": "b95e1800-779b-42cd-8510-60e242394058",
   "metadata": {},
   "outputs": [],
   "source": [
    "mdata.obs = mdata.obs.loc[:,[]]"
   ]
  },
  {
   "cell_type": "markdown",
   "id": "f2455812-a41d-4e2b-99c9-e30ee650f7e9",
   "metadata": {},
   "source": [
    "... just as it is possible to pull a specific *unique* column without specifying the modality name:"
   ]
  },
  {
   "cell_type": "code",
   "execution_count": 38,
   "id": "9735d563-982e-40a6-9f7e-350554733c26",
   "metadata": {},
   "outputs": [
    {
     "data": {
      "text/plain": [
       "mod3:mod3_cell    boolean\n",
       "dtype: object"
      ]
     },
     "execution_count": 38,
     "metadata": {},
     "output_type": "execute_result"
    }
   ],
   "source": [
    "# unique column\n",
    "mdata.pull_obs(columns=[\"mod3_cell\"])\n",
    "mdata.obs.dtypes"
   ]
  },
  {
   "cell_type": "code",
   "execution_count": 39,
   "id": "a31aa260-a2f4-4a72-96d0-475cf13c4ab5",
   "metadata": {},
   "outputs": [],
   "source": [
    "mdata.obs = mdata.obs.loc[:,[]]"
   ]
  },
  {
   "cell_type": "markdown",
   "id": "726b20b1-b98e-4250-88c7-dadce4622e33",
   "metadata": {},
   "source": [
    " "
   ]
  },
  {
   "cell_type": "markdown",
   "id": "6e47ae0e-8c25-4381-bea0-07d74694be3e",
   "metadata": {},
   "source": [
    "**`mods=...`** It is also possible to limit the amount of modalities to pull columns from. For example, `columns=[\"mod1:qc\", \"mod3:qc\"]` can also be expressed as"
   ]
  },
  {
   "cell_type": "code",
   "execution_count": 40,
   "id": "b6522aee-e8a6-4236-94f5-0b41c6158029",
   "metadata": {},
   "outputs": [
    {
     "data": {
      "text/plain": [
       "mod1:qc    boolean\n",
       "mod3:qc    boolean\n",
       "dtype: object"
      ]
     },
     "execution_count": 40,
     "metadata": {},
     "output_type": "execute_result"
    }
   ],
   "source": [
    "mdata.pull_obs(columns=[\"qc\"], mods=[\"mod1\", \"mod3\"])\n",
    "mdata.obs.dtypes"
   ]
  },
  {
   "cell_type": "code",
   "execution_count": 41,
   "id": "191eea50-ca43-4e48-b0c9-d735d3d5dd6f",
   "metadata": {},
   "outputs": [],
   "source": [
    "mdata.obs = mdata.obs.loc[:,[]]"
   ]
  },
  {
   "cell_type": "markdown",
   "id": "5dc9a6fb-3eb0-4bfc-b4ae-7dee71df7070",
   "metadata": {},
   "source": [
    " "
   ]
  },
  {
   "cell_type": "markdown",
   "id": "8fa48862-af36-4623-b74f-01716feaac8c",
   "metadata": {},
   "source": [
    "Last but not least, columns can be automatically dropped from source."
   ]
  },
  {
   "cell_type": "code",
   "execution_count": 42,
   "id": "d0f3268b-bb38-47e8-8e27-bf79d2da4037",
   "metadata": {},
   "outputs": [
    {
     "data": {
      "text/plain": [
       "mod1:qc    boolean\n",
       "mod2:qc    boolean\n",
       "mod3:qc    boolean\n",
       "dtype: object"
      ]
     },
     "execution_count": 42,
     "metadata": {},
     "output_type": "execute_result"
    }
   ],
   "source": [
    "mdata.pull_obs(nonunique=False, unique=False, drop=True)\n",
    "mdata.obs.dtypes"
   ]
  },
  {
   "cell_type": "markdown",
   "id": "b8afa2e6-143b-4a7d-9866-3a751c89f487",
   "metadata": {},
   "source": [
    "The `qc` label has thus been effectively moved from the individual modalities to the global annotation:"
   ]
  },
  {
   "cell_type": "code",
   "execution_count": 43,
   "id": "41d6a84b-4cbc-4c58-9981-638262f4d015",
   "metadata": {},
   "outputs": [
    {
     "name": "stdout",
     "output_type": "stream",
     "text": [
      "False\n",
      "False\n",
      "False\n"
     ]
    }
   ],
   "source": [
    "for mod in mdata.mod.values():\n",
    "    print(\"qc\" in mod.obs.columns)"
   ]
  },
  {
   "cell_type": "markdown",
   "id": "bf3e7641-67bf-4015-b999-fe71f31b6421",
   "metadata": {},
   "source": [
    " "
   ]
  },
  {
   "cell_type": "markdown",
   "id": "06d5b0db-545a-4fcd-8ce6-29871178fb03",
   "metadata": {},
   "source": [
    "### Pushing annotations\n",
    "\n",
    "Annotations can also be *pushed* from the global .var or .obs table to the individual modalities."
   ]
  },
  {
   "cell_type": "markdown",
   "id": "868af222-2be9-4401-8996-478c75b735b3",
   "metadata": {},
   "source": [
    "#### Pushing feature annotations with `.push_var()`"
   ]
  },
  {
   "cell_type": "markdown",
   "id": "4ae39959-2c82-4b62-aab8-272cf64d988f",
   "metadata": {},
   "source": [
    "For demonstration purposes, we will use a simple `MuData` object with some global annotations for the features:"
   ]
  },
  {
   "cell_type": "code",
   "execution_count": 44,
   "id": "dbb0fe15-9105-42e5-9d5b-35b00f1d0ba8",
   "metadata": {
    "tags": []
   },
   "outputs": [],
   "source": [
    "def make_mdata():\n",
    "    N = 100\n",
    "    D1, D2, D3 = 10, 20, 30\n",
    "    D = D1 + D2 + D3\n",
    "\n",
    "    mod1 = AnnData(np.arange(0, 100, 0.1).reshape(-1, D1))\n",
    "    mod1.obs_names = [f\"obs{i}\" for i in range(mod1.n_obs)]\n",
    "    mod1.var_names = [f\"var{i}\" for i in range(D1)]\n",
    "\n",
    "    mod2 = AnnData(np.arange(3101, 5101, 1).reshape(-1, D2))\n",
    "    mod2.obs_names = mod1.obs_names.copy()\n",
    "    mod2.var_names = [f\"var{i}\" for i in range(D1, D1 + D2)]\n",
    "\n",
    "    mod3 = AnnData(np.arange(5101, 8101, 1).reshape(-1, D3))\n",
    "    mod3.obs_names = mod1.obs_names.copy()\n",
    "    mod3.var_names = [f\"var{i}\" for i in range(D1 + D2, D)]\n",
    "    \n",
    "    mdata = MuData({\"mod1\": mod1, \"mod2\": mod2, \"mod3\": mod3})\n",
    "\n",
    "    # common column to be propagated to all modalities\n",
    "    mdata.var[\"highly_variable\"] = True\n",
    "\n",
    "    # prefix column to be propagated to the respective modalities\n",
    "    mdata.var[\"mod2:if_mod2\"] = np.concatenate([\n",
    "        np.repeat(pd.NA, D1), \n",
    "        np.repeat(True, D2),\n",
    "        np.repeat(pd.NA, D3),\n",
    "    ])\n",
    "\n",
    "    return mdata"
   ]
  },
  {
   "cell_type": "code",
   "execution_count": 45,
   "id": "88b1a0be-e9d8-4a52-b31b-c4b5698bdfa5",
   "metadata": {},
   "outputs": [],
   "source": [
    "mdata = make_mdata()"
   ]
  },
  {
   "cell_type": "code",
   "execution_count": 46,
   "id": "280ad853-ac20-43ab-8b5c-cc70d47f530d",
   "metadata": {},
   "outputs": [
    {
     "data": {
      "text/html": [
       "<pre>MuData object with n_obs × n_vars = 100 × 60\n",
       "  var:\t&#x27;highly_variable&#x27;\n",
       "  3 modalities\n",
       "    mod1:\t100 x 10\n",
       "    mod2:\t100 x 20\n",
       "    mod3:\t100 x 30</pre>"
      ],
      "text/plain": [
       "MuData object with n_obs × n_vars = 100 × 60\n",
       "  var:\t'highly_variable'\n",
       "  3 modalities\n",
       "    mod1:\t100 x 10\n",
       "    mod2:\t100 x 20\n",
       "    mod3:\t100 x 30"
      ]
     },
     "execution_count": 46,
     "metadata": {},
     "output_type": "execute_result"
    }
   ],
   "source": [
    "mdata"
   ]
  },
  {
   "cell_type": "markdown",
   "id": "8a766063-a136-4797-81b0-d905ddc2f035",
   "metadata": {},
   "source": [
    "**`push_var()`** will add a `highly_variable` column to each modality and a `if_mod2` column to the `mod2` modality:"
   ]
  },
  {
   "cell_type": "code",
   "execution_count": 47,
   "id": "e46534b1-58e8-45b1-acc6-c1cd665e0bbe",
   "metadata": {},
   "outputs": [],
   "source": [
    "mdata.push_var()"
   ]
  },
  {
   "cell_type": "code",
   "execution_count": 48,
   "id": "886dbafe-f8db-4578-aae2-bd6f47bdcfc9",
   "metadata": {},
   "outputs": [
    {
     "name": "stdout",
     "output_type": "stream",
     "text": [
      "highly_variable    bool\n",
      "dtype: object\n",
      "highly_variable      bool\n",
      "if_mod2            object\n",
      "dtype: object\n",
      "highly_variable    bool\n",
      "dtype: object\n"
     ]
    }
   ],
   "source": [
    "for m in mdata.mod.keys():\n",
    "    print(mdata[m].var.dtypes)"
   ]
  },
  {
   "cell_type": "code",
   "execution_count": 49,
   "id": "950417f0-58ee-426f-80fb-9c2a3f2ea28e",
   "metadata": {},
   "outputs": [],
   "source": [
    "# Clean up\n",
    "for m in mdata.mod.keys():\n",
    "    mdata[m].var = mdata[m].var.loc[:,[]]"
   ]
  },
  {
   "cell_type": "markdown",
   "id": "c0821b75-b1b1-41a9-ae6e-16658bfe6eb5",
   "metadata": {},
   "source": [
    "**`common=`, `prefixed=`** options can be used to adjust the selection of columns to be pushed — non-prefixed (*common*) ones and/or the ones *prefixed* with modality name.\n",
    "\n",
    "Only common:"
   ]
  },
  {
   "cell_type": "code",
   "execution_count": 50,
   "id": "472c44e7-f2eb-4a56-8bfe-5660b71f6bbc",
   "metadata": {},
   "outputs": [],
   "source": [
    "mdata.push_var(common=True, prefixed=False)"
   ]
  },
  {
   "cell_type": "code",
   "execution_count": 51,
   "id": "ba6dc2d8-01c8-4611-956e-c958bf9f241b",
   "metadata": {},
   "outputs": [
    {
     "name": "stdout",
     "output_type": "stream",
     "text": [
      "highly_variable    bool\n",
      "dtype: object\n",
      "highly_variable    bool\n",
      "dtype: object\n",
      "highly_variable    bool\n",
      "dtype: object\n"
     ]
    }
   ],
   "source": [
    "for m in mdata.mod.keys():\n",
    "    print(mdata[m].var.dtypes)"
   ]
  },
  {
   "cell_type": "code",
   "execution_count": 52,
   "id": "8465d667-da8b-47eb-966f-600cb28e267f",
   "metadata": {},
   "outputs": [],
   "source": [
    "# Clean up\n",
    "for m in mdata.mod.keys():\n",
    "    mdata[m].var = mdata[m].var.loc[:,[]]"
   ]
  },
  {
   "cell_type": "markdown",
   "id": "cbcf77ec-58af-4ad7-91dd-f058e2fc2cc1",
   "metadata": {},
   "source": [
    "... or only prefixed columns can be pushed:"
   ]
  },
  {
   "cell_type": "code",
   "execution_count": 53,
   "id": "10f0494d-9767-467b-8ce0-61856cae0741",
   "metadata": {},
   "outputs": [],
   "source": [
    "mdata.push_var(common=False, prefixed=True)"
   ]
  },
  {
   "cell_type": "code",
   "execution_count": 54,
   "id": "d242693a-e1d8-41ac-8edf-4ace3daed12e",
   "metadata": {},
   "outputs": [
    {
     "name": "stdout",
     "output_type": "stream",
     "text": [
      "Series([], dtype: object)\n",
      "if_mod2    object\n",
      "dtype: object\n",
      "Series([], dtype: object)\n"
     ]
    }
   ],
   "source": [
    "for m in mdata.mod.keys():\n",
    "    print(mdata[m].var.dtypes)"
   ]
  },
  {
   "cell_type": "code",
   "execution_count": 55,
   "id": "91ed8e1f-ae16-4ce3-9ad6-4a2f7e52a864",
   "metadata": {},
   "outputs": [],
   "source": [
    "# Clean up\n",
    "for m in mdata.mod.keys():\n",
    "    mdata[m].var = mdata[m].var.loc[:,[]]"
   ]
  },
  {
   "cell_type": "markdown",
   "id": "dcfd081b-2d71-480a-b2ed-dfb4085ff4b5",
   "metadata": {},
   "source": [
    "Prefixed columns are pushed to the respective modalities."
   ]
  },
  {
   "cell_type": "markdown",
   "id": "dbcd9d6e-53f2-4486-87f8-a905ac420b88",
   "metadata": {},
   "source": [
    " "
   ]
  },
  {
   "cell_type": "markdown",
   "id": "884ba95d-4a1c-46b5-a6da-3aeac9d0ae74",
   "metadata": {},
   "source": [
    "Alternatively, **`columns=`** allows to provide an explicit list of columns to be propagated to modalities, and **`mods=`** allows to limit the modalities for propagating annotations:"
   ]
  },
  {
   "cell_type": "code",
   "execution_count": 56,
   "id": "8b57452d-8601-4dfd-aef0-4ea6e1fc7aac",
   "metadata": {},
   "outputs": [],
   "source": [
    "mdata.push_var(columns=[\"highly_variable\"], mods=[\"mod3\"])"
   ]
  },
  {
   "cell_type": "code",
   "execution_count": 57,
   "id": "3721d91b-5bdd-4370-ba6b-717c0be08a5e",
   "metadata": {},
   "outputs": [
    {
     "name": "stdout",
     "output_type": "stream",
     "text": [
      "Series([], dtype: object)\n",
      "Series([], dtype: object)\n",
      "highly_variable    bool\n",
      "dtype: object\n"
     ]
    }
   ],
   "source": [
    "for m in mdata.mod.keys():\n",
    "    print(mdata[m].var.dtypes)"
   ]
  },
  {
   "cell_type": "code",
   "execution_count": 58,
   "id": "0e4b7258-218e-4544-8406-5c33838bc7a1",
   "metadata": {},
   "outputs": [],
   "source": [
    "# Clean up\n",
    "for m in mdata.mod.keys():\n",
    "    mdata[m].var = mdata[m].var.loc[:,[]]"
   ]
  },
  {
   "cell_type": "markdown",
   "id": "a9ba7e5e-60b8-4626-ae93-0502a7296491",
   "metadata": {},
   "source": [
    " "
   ]
  },
  {
   "cell_type": "markdown",
   "id": "ee6fe2bb-04df-4de1-b4a3-a8565489ca34",
   "metadata": {},
   "source": [
    "Annotations can be also dropped from the `mdata.var` after pushing them from individual modalities with **`drop=True`** — or just dropped without propagation with **`only_drop=True`**:"
   ]
  },
  {
   "cell_type": "code",
   "execution_count": 59,
   "id": "f326dcff-d071-4f85-8eec-130fec01629a",
   "metadata": {},
   "outputs": [],
   "source": [
    "mdata.push_var(prefixed=False, drop=True)\n",
    "mdata.push_var(columns=[\"if_mod2\"], only_drop=True)"
   ]
  },
  {
   "cell_type": "markdown",
   "id": "8e66d319-8d1e-4289-a09e-bd7f20bdd8ff",
   "metadata": {},
   "source": [
    "This will propagate `highly_variable` column to all the modalities and drop it from the `mdata.var`, and will also drop `mdata.var.if_mod2` column:"
   ]
  },
  {
   "cell_type": "code",
   "execution_count": 60,
   "id": "8592dea5-8e28-4fd3-b921-d17cea10459e",
   "metadata": {},
   "outputs": [
    {
     "name": "stdout",
     "output_type": "stream",
     "text": [
      "mdata.var columns:\n",
      "Series([], dtype: object)\n"
     ]
    }
   ],
   "source": [
    "print(f\"mdata.var columns:\\n{mdata.var.dtypes}\")"
   ]
  },
  {
   "cell_type": "code",
   "execution_count": 61,
   "id": "4d64d9c2-69f5-430a-8e37-634c1788c784",
   "metadata": {},
   "outputs": [
    {
     "name": "stdout",
     "output_type": "stream",
     "text": [
      "mdata['mod2'].var columns:\n",
      "highly_variable    bool\n",
      "dtype: object\n"
     ]
    }
   ],
   "source": [
    "print(f\"mdata['mod2'].var columns:\\n{mdata['mod2'].var.dtypes}\")"
   ]
  },
  {
   "cell_type": "markdown",
   "id": "3c0a81da-4ad7-4d2c-b3c6-4ab880b2a6d6",
   "metadata": {},
   "source": [
    " "
   ]
  },
  {
   "cell_type": "markdown",
   "id": "fadb96d7-e3b5-4c03-bb07-0ab143dfac0d",
   "metadata": {},
   "source": [
    "#### Pushing samples annotations with `.push_obs()`"
   ]
  },
  {
   "cell_type": "markdown",
   "id": "474942a5-7cdd-4492-8e99-1730dd998de6",
   "metadata": {},
   "source": [
    "For demonstration purposes, we will use a simple `MuData` object with some global annotations for the observations:"
   ]
  },
  {
   "cell_type": "code",
   "execution_count": 62,
   "id": "53791b13-b391-4c92-879d-bc84832932d7",
   "metadata": {
    "tags": []
   },
   "outputs": [],
   "source": [
    "def make_mdata():\n",
    "    N = 100\n",
    "    D1, D2 = 10, 20\n",
    "    D = D1 + D2\n",
    "\n",
    "    mod1 = AnnData(np.arange(0, 100, 0.1).reshape(-1, D1))\n",
    "    mod1.obs_names = [f\"obs{i}\" for i in range(mod1.n_obs)]\n",
    "    mod1.var_names = [f\"var{i}\" for i in range(D1)]\n",
    "\n",
    "    mod2 = AnnData(np.arange(3101, 5101, 1).reshape(-1, D2))\n",
    "    mod2.obs_names = mod1.obs_names.copy()\n",
    "    mod2.var_names = [f\"var{i}\" for i in range(D1, D1 + D2)]\n",
    "\n",
    "    mdata = MuData({\"mod1\": mod1, \"mod2\": mod2})\n",
    "\n",
    "    # common column to be propagated to all modalities\n",
    "    mdata.obs[\"true\"] = True\n",
    "\n",
    "    return mdata"
   ]
  },
  {
   "cell_type": "code",
   "execution_count": 63,
   "id": "f3ab4b92-3647-4e9f-a6fb-4d664f14e11e",
   "metadata": {},
   "outputs": [],
   "source": [
    "mdata = make_mdata()"
   ]
  },
  {
   "cell_type": "code",
   "execution_count": 64,
   "id": "6a6a3f1c-b6ff-4ca5-a1e6-32eb193a2009",
   "metadata": {},
   "outputs": [
    {
     "data": {
      "text/html": [
       "<pre>MuData object with n_obs × n_vars = 100 × 30\n",
       "  obs:\t&#x27;true&#x27;\n",
       "  2 modalities\n",
       "    mod1:\t100 x 10\n",
       "    mod2:\t100 x 20</pre>"
      ],
      "text/plain": [
       "MuData object with n_obs × n_vars = 100 × 30\n",
       "  obs:\t'true'\n",
       "  2 modalities\n",
       "    mod1:\t100 x 10\n",
       "    mod2:\t100 x 20"
      ]
     },
     "execution_count": 64,
     "metadata": {},
     "output_type": "execute_result"
    }
   ],
   "source": [
    "mdata"
   ]
  },
  {
   "cell_type": "markdown",
   "id": "bfdf269d-8679-4b3c-a638-2410214a4b22",
   "metadata": {},
   "source": [
    "**`push_obs()`** will add a `true` column to each modality:"
   ]
  },
  {
   "cell_type": "code",
   "execution_count": 65,
   "id": "5b2a4cdd-f3f4-4bd0-b3c0-e8bd778efd05",
   "metadata": {},
   "outputs": [],
   "source": [
    "mdata.push_obs()"
   ]
  },
  {
   "cell_type": "code",
   "execution_count": 66,
   "id": "793f4074-9258-4f99-b1ba-aefd60ae4964",
   "metadata": {},
   "outputs": [
    {
     "name": "stdout",
     "output_type": "stream",
     "text": [
      "true    bool\n",
      "dtype: object\n",
      "true    bool\n",
      "dtype: object\n"
     ]
    }
   ],
   "source": [
    "for m in mdata.mod.keys():\n",
    "    print(mdata[m].obs.dtypes)"
   ]
  },
  {
   "cell_type": "code",
   "execution_count": 67,
   "id": "03a1a88a-94d9-4dae-b2a5-746f24ff2a96",
   "metadata": {},
   "outputs": [],
   "source": [
    "# Clean up\n",
    "for m in mdata.mod.keys():\n",
    "    mdata[m].obs = mdata[m].obs.loc[:,[]]"
   ]
  },
  {
   "cell_type": "markdown",
   "id": "177aaa16-98dd-4498-9fc4-32fd08ec5d68",
   "metadata": {},
   "source": [
    "**`common=`, `prefixed=`** options can be used to adjust the selection of columns to be pushed — non-prefixed (*common*) ones and/or the ones *prefixed* with modality name:"
   ]
  },
  {
   "cell_type": "code",
   "execution_count": 68,
   "id": "30527cb8-6831-41d6-8495-5f0d4f9604c4",
   "metadata": {},
   "outputs": [],
   "source": [
    "mdata.push_obs(common=False)"
   ]
  },
  {
   "cell_type": "code",
   "execution_count": 69,
   "id": "37f92238-38e2-4878-ad85-3ba832d4d9a2",
   "metadata": {},
   "outputs": [
    {
     "name": "stdout",
     "output_type": "stream",
     "text": [
      "Series([], dtype: object)\n",
      "Series([], dtype: object)\n"
     ]
    }
   ],
   "source": [
    "for m in mdata.mod.keys():\n",
    "    print(mdata[m].obs.dtypes)"
   ]
  },
  {
   "cell_type": "code",
   "execution_count": 70,
   "id": "805f0ac6-dc67-48f3-b528-2fae7d14c9ac",
   "metadata": {},
   "outputs": [],
   "source": [
    "# Clean up\n",
    "for m in mdata.mod.keys():\n",
    "    mdata[m].obs = mdata[m].obs.loc[:,[]]"
   ]
  },
  {
   "cell_type": "markdown",
   "id": "c88b35ed-1ae9-413e-8d5b-838a20c77cc5",
   "metadata": {},
   "source": [
    " "
   ]
  },
  {
   "cell_type": "markdown",
   "id": "9b0282a7-151d-4507-bb97-c62f454effb4",
   "metadata": {},
   "source": [
    "Alternatively, **`columns=`** allows to provide an explicit list of columns to be propagated to modalities, and **`mods=`** allows to limit the modalities for propagating annotations:"
   ]
  },
  {
   "cell_type": "code",
   "execution_count": 71,
   "id": "918f746f-9b5c-47cb-89d4-d27878f5da78",
   "metadata": {},
   "outputs": [],
   "source": [
    "mdata.push_obs(columns=[\"true\"], mods=[\"mod2\"])"
   ]
  },
  {
   "cell_type": "code",
   "execution_count": 72,
   "id": "a5543578-9974-4576-9914-0736462cc749",
   "metadata": {},
   "outputs": [
    {
     "name": "stdout",
     "output_type": "stream",
     "text": [
      "modality mod1:\n",
      "Series([], dtype: object)\n",
      "\n",
      "modality mod2:\n",
      "true    bool\n",
      "dtype: object\n",
      "\n"
     ]
    }
   ],
   "source": [
    "for m in mdata.mod.keys():\n",
    "    print(f\"modality {m}:\")\n",
    "    print(mdata[m].obs.dtypes)\n",
    "    print()"
   ]
  },
  {
   "cell_type": "code",
   "execution_count": 73,
   "id": "15de3dfb-5e0d-46d9-9b92-be28f6708538",
   "metadata": {},
   "outputs": [],
   "source": [
    "# Clean up\n",
    "for m in mdata.mod.keys():\n",
    "    mdata[m].obs = mdata[m].obs.loc[:,[]]"
   ]
  },
  {
   "cell_type": "markdown",
   "id": "2cef722b-ee59-4708-b94a-523630b6dd92",
   "metadata": {},
   "source": [
    " "
   ]
  },
  {
   "cell_type": "markdown",
   "id": "bc2ad611-ee66-4a58-b55b-fb522a4accaa",
   "metadata": {},
   "source": [
    "Annotations can be also dropped from `mdata.obs` after pushing them from individual modalities with **`drop=True`** — or just dropped without propagation with **`only_drop=True`**:"
   ]
  },
  {
   "cell_type": "code",
   "execution_count": 74,
   "id": "8266cf50-ff61-4853-9289-a256a51028e7",
   "metadata": {},
   "outputs": [],
   "source": [
    "mdata.push_obs(only_drop=True)"
   ]
  },
  {
   "cell_type": "markdown",
   "id": "e10c6162-695b-4e0e-99e8-8865757cff18",
   "metadata": {},
   "source": [
    "This will just drop `mdata.var.true` column:"
   ]
  },
  {
   "cell_type": "code",
   "execution_count": 75,
   "id": "b564148a-b761-4555-9ade-e1556c11ba44",
   "metadata": {},
   "outputs": [
    {
     "name": "stdout",
     "output_type": "stream",
     "text": [
      "mdata.obs columns:\n",
      "Series([], dtype: object)\n"
     ]
    }
   ],
   "source": [
    "print(f\"mdata.obs columns:\\n{mdata.obs.dtypes}\")"
   ]
  },
  {
   "cell_type": "code",
   "execution_count": 76,
   "id": "bf7d9f9c-554d-40ab-8b6b-b7d991f1ab5f",
   "metadata": {},
   "outputs": [
    {
     "name": "stdout",
     "output_type": "stream",
     "text": [
      "mdata['mod2'].obs columns:\n",
      "Series([], dtype: object)\n"
     ]
    }
   ],
   "source": [
    "print(f\"mdata['mod2'].obs columns:\\n{mdata['mod2'].obs.dtypes}\")"
   ]
  },
  {
   "cell_type": "markdown",
   "id": "958a6055-d9dd-46fe-a7c8-66b4d03fae8c",
   "metadata": {},
   "source": [
    " "
   ]
  },
  {
   "cell_type": "markdown",
   "id": "e128fdac-8a85-44ec-9b13-0e030a1a85f8",
   "metadata": {},
   "source": [
    "## Multi-dataset annotations"
   ]
  },
  {
   "cell_type": "markdown",
   "id": "a92e3005-5855-4e2f-b1d4-8dd2c3b020aa",
   "metadata": {},
   "source": [
    "[The axes interface](https://mudata.readthedocs.io/en/latest/notebooks/axes.html) enables `MuData` to be used beyond multimodal data. This includes multi-dataset containers with `axis=1` (shared features) and data subsets with `axis=-1` (shared observations and features)."
   ]
  },
  {
   "cell_type": "code",
   "execution_count": 77,
   "id": "04570b8e-4452-4cd7-88ef-56bf77098370",
   "metadata": {
    "tags": []
   },
   "outputs": [],
   "source": [
    "def make_mdata():\n",
    "    N1, N2, N3 = 10, 20, 30\n",
    "    N = N1 + N2 + N3\n",
    "    D = 100\n",
    "\n",
    "    mod1 = AnnData(np.arange(0, 100, 0.1).reshape(N1, -1))\n",
    "    mod1.obs_names = [f\"obs{i}\" for i in range(N1)]\n",
    "    mod1.var_names = [f\"var{i}\" for i in range(D)]\n",
    "\n",
    "    mod2 = AnnData(np.arange(3101, 5101, 1).reshape(N2, -1))\n",
    "    mod2.obs_names = [f\"obs{i}\" for i in range(N1, N1 + N2)]\n",
    "    mod2.var_names = mod1.var_names.copy()\n",
    "\n",
    "    mod3 = AnnData(np.arange(5101, 8101, 1).reshape(N3, -1))\n",
    "    mod3.obs_names = [f\"obs{i}\" for i in range(N1 + N2, N)]\n",
    "    mod3.var_names = mod1.var_names.copy()\n",
    "\n",
    "    # common column already present in all modalities\n",
    "    mod1.obs[\"dataset\"] = \"dataset1\"\n",
    "    mod2.obs[\"dataset\"] = \"dataset2\"\n",
    "    mod3.obs[\"dataset\"] = \"dataset3\"\n",
    "\n",
    "    # column present in some (2 out of 3) modalities (non-unique)\n",
    "    mod2.obs[\"species\"] = \"human\"\n",
    "    mod3.obs[\"species\"] = \"mouse\"\n",
    "\n",
    "    # column present in one modality (unique)\n",
    "    mod3.obs[\"reference\"] = True\n",
    "\n",
    "    mdata = MuData({\"mod1\": mod1, \"mod2\": mod2, \"mod3\": mod3}, axis=1)\n",
    "    return mdata"
   ]
  },
  {
   "cell_type": "code",
   "execution_count": 78,
   "id": "571b8778-6bdc-4d1a-882a-0a346df2d0fb",
   "metadata": {},
   "outputs": [],
   "source": [
    "mdata = make_mdata()\n",
    "# TODO: shouldn't be needed from 0.4\n",
    "# mdata.update(pull=False)\n",
    "mdata.obs = mdata.obs.loc[:,[]]\n",
    "mdata.var = mdata.var.loc[:,[]]"
   ]
  },
  {
   "cell_type": "code",
   "execution_count": 79,
   "id": "93c539bd-86c4-4a78-84c1-46ca0e8adac6",
   "metadata": {},
   "outputs": [
    {
     "data": {
      "text/html": [
       "<pre>MuData object with n_obs × n_vars = 60 × 100\n",
       "  3 modalities\n",
       "    mod1:\t10 x 100\n",
       "      obs:\t&#x27;dataset&#x27;\n",
       "    mod2:\t20 x 100\n",
       "      obs:\t&#x27;dataset&#x27;, &#x27;species&#x27;\n",
       "    mod3:\t30 x 100\n",
       "      obs:\t&#x27;dataset&#x27;, &#x27;species&#x27;, &#x27;reference&#x27;</pre>"
      ],
      "text/plain": [
       "MuData object with n_obs × n_vars = 60 × 100\n",
       "  3 modalities\n",
       "    mod1:\t10 x 100\n",
       "      obs:\t'dataset'\n",
       "    mod2:\t20 x 100\n",
       "      obs:\t'dataset', 'species'\n",
       "    mod3:\t30 x 100\n",
       "      obs:\t'dataset', 'species', 'reference'"
      ]
     },
     "execution_count": 79,
     "metadata": {},
     "output_type": "execute_result"
    }
   ],
   "source": [
    "mdata"
   ]
  },
  {
   "cell_type": "code",
   "execution_count": 80,
   "id": "73e8f181-5de5-4044-9e1e-db8a74162878",
   "metadata": {},
   "outputs": [
    {
     "data": {
      "text/plain": [
       "dataset       object\n",
       "species       object\n",
       "reference    boolean\n",
       "dtype: object"
      ]
     },
     "execution_count": 80,
     "metadata": {},
     "output_type": "execute_result"
    }
   ],
   "source": [
    "mdata.pull_obs(join_nonunique=True, prefix_unique=False)\n",
    "mdata.obs.dtypes"
   ]
  },
  {
   "cell_type": "code",
   "execution_count": 81,
   "id": "8e4dc2d9-66da-4a8c-b3fb-c71c5ebafc16",
   "metadata": {},
   "outputs": [
    {
     "data": {
      "text/plain": [
       "Series([], dtype: object)"
      ]
     },
     "execution_count": 81,
     "metadata": {},
     "output_type": "execute_result"
    }
   ],
   "source": [
    "mdata.pull_var()\n",
    "mdata.var.dtypes"
   ]
  },
  {
   "cell_type": "markdown",
   "id": "84f2241e-5deb-4443-b463-a6cf1486a6cc",
   "metadata": {},
   "source": [
    " "
   ]
  },
  {
   "cell_type": "markdown",
   "id": "0243711e-0742-45e1-94c6-c6e8f002e193",
   "metadata": {},
   "source": [
    "## Stages annotations\n",
    "\n",
    "`MuData` objects with `mdata.axis == -1` can contains \"modalities\" that have both samples and features shared. This can be useful for example for storing different processing stages, with both samples and features being filtered out with some quality control (QC) procedures.\n",
    "\n",
    "Similarly to other axes, `.pull_obs()`/`pull_var()` and `.push_obs()`/`.push_var()` work as well."
   ]
  },
  {
   "cell_type": "code",
   "execution_count": 82,
   "id": "e8e5d459-7690-4c51-aee4-ae15170f4ebe",
   "metadata": {
    "tags": []
   },
   "outputs": [],
   "source": [
    "def make_staged_mdata():\n",
    "    N, D = 10, 100\n",
    "    Nsub, Dsub = 8, 50\n",
    "\n",
    "    mod1 = AnnData(np.arange(0, 100, 0.1).reshape(N, D))\n",
    "    mod1.obs_names = [f\"obs{i}\" for i in range(N)]\n",
    "    mod1.var_names = [f\"var{i}\" for i in range(D)]\n",
    "\n",
    "    mod2 = AnnData(np.arange(3101, 3501, 1).reshape(Nsub, Dsub))\n",
    "    mod2.obs_names = [f\"obs{i}\" for i in range(Nsub)]\n",
    "    mod2.var_names = [f\"var{i}\" for i in range(Dsub)]\n",
    "\n",
    "    # common column already present in all modalities\n",
    "    mod1.obs[\"status\"] = True\n",
    "    mod2.obs[\"status\"] = True\n",
    "\n",
    "    # column present in one modality (unique)\n",
    "    mod2.obs[\"filtered\"] = True\n",
    "    mod2.var[\"filtered\"] = True\n",
    "\n",
    "    mdata = MuData({\"raw\": mod1, \"qced\": mod2}, axis=-1)\n",
    "    return mdata"
   ]
  },
  {
   "cell_type": "code",
   "execution_count": 83,
   "id": "29cac498-63ba-4230-86d2-08633bf7abf4",
   "metadata": {},
   "outputs": [],
   "source": [
    "mdata = make_staged_mdata()\n",
    "# TODO: shouldn't be needed from 0.4\n",
    "# mdata.update(pull=False)\n",
    "mdata.obs = mdata.obs.loc[:,[]]\n",
    "mdata.var = mdata.var.loc[:,[]]"
   ]
  },
  {
   "cell_type": "code",
   "execution_count": 84,
   "id": "cd372a80-bfdf-43eb-9805-2892dd867013",
   "metadata": {},
   "outputs": [
    {
     "data": {
      "text/html": [
       "<pre>MuData object with n_obs × n_vars = 10 × 100\n",
       "  2 modalities\n",
       "    raw:\t10 x 100\n",
       "      obs:\t&#x27;status&#x27;\n",
       "    qced:\t8 x 50\n",
       "      obs:\t&#x27;status&#x27;, &#x27;filtered&#x27;\n",
       "      var:\t&#x27;filtered&#x27;</pre>"
      ],
      "text/plain": [
       "MuData object with n_obs × n_vars = 10 × 100\n",
       "  2 modalities\n",
       "    raw:\t10 x 100\n",
       "      obs:\t'status'\n",
       "    qced:\t8 x 50\n",
       "      obs:\t'status', 'filtered'\n",
       "      var:\t'filtered'"
      ]
     },
     "execution_count": 84,
     "metadata": {},
     "output_type": "execute_result"
    }
   ],
   "source": [
    "mdata"
   ]
  },
  {
   "cell_type": "code",
   "execution_count": 85,
   "id": "e7d942f3-c95c-462e-b89f-f2298a71056b",
   "metadata": {},
   "outputs": [
    {
     "data": {
      "text/plain": [
       "raw:status     boolean\n",
       "filtered       boolean\n",
       "qced:status    boolean\n",
       "dtype: object"
      ]
     },
     "execution_count": 85,
     "metadata": {},
     "output_type": "execute_result"
    }
   ],
   "source": [
    "mdata.pull_obs(prefix_unique=False)\n",
    "mdata.obs.dtypes"
   ]
  },
  {
   "cell_type": "code",
   "execution_count": 86,
   "id": "1331dd12-b6d8-48f9-a6ca-9a3174630333",
   "metadata": {},
   "outputs": [
    {
     "data": {
      "text/plain": [
       "filtered    boolean\n",
       "dtype: object"
      ]
     },
     "execution_count": 86,
     "metadata": {},
     "output_type": "execute_result"
    }
   ],
   "source": [
    "mdata.pull_var(prefix_unique=False)\n",
    "mdata.var.dtypes"
   ]
  },
  {
   "cell_type": "markdown",
   "id": "e1dfee04-2ae1-4738-b3c1-f34483ce8731",
   "metadata": {},
   "source": [
    " "
   ]
  },
  {
   "cell_type": "markdown",
   "id": "e87764e4-fa64-469c-9c10-93f36556de06",
   "metadata": {},
   "source": [
    "## Nested `MuData` objects\n",
    "\n",
    "Annotations can be also managed for nested MuData objects:"
   ]
  },
  {
   "cell_type": "code",
   "execution_count": 87,
   "id": "c478e93f-03eb-4428-a175-311db6b023f1",
   "metadata": {
    "tags": []
   },
   "outputs": [],
   "source": [
    "def make_nested_mdata():\n",
    "    stages = make_staged_mdata()\n",
    "    stages.obs = stages.obs.loc[:,[]]  # pre-0.3\n",
    "    \n",
    "    mod2 = AnnData(np.arange(10000, 12000, 1).reshape(10, -1))\n",
    "    mod2.obs_names = [f\"obs{i}\" for i in range(mod2.n_obs)]\n",
    "    mod2.var_names = [f\"mod2:var{i}\" for i in range(mod2.n_vars)]\n",
    "\n",
    "    mdata = MuData({\"mod1\": stages, \"mod2\": mod2}, axis=-1)\n",
    "    \n",
    "    mdata.obs[\"dataset\"] = \"ref\"\n",
    "\n",
    "    return mdata"
   ]
  },
  {
   "cell_type": "code",
   "execution_count": 88,
   "id": "b43342d5-12ae-4d91-8807-dd26961f613b",
   "metadata": {},
   "outputs": [
    {
     "data": {
      "text/html": [
       "<pre>MuData object with n_obs × n_vars = 10 × 300\n",
       "  obs:\t&#x27;dataset&#x27;\n",
       "  2 modalities\n",
       "    mod1:\tMuData object with n_obs × n_vars = 10 × 300\n",
       "      2 modalities\n",
       "        raw:\t10 x 100\n",
       "          obs:\t&#x27;status&#x27;\n",
       "        qced:\t8 x 50\n",
       "          obs:\t&#x27;status&#x27;, &#x27;filtered&#x27;\n",
       "          var:\t&#x27;filtered&#x27;\n",
       "    mod2:\t10 x 200</pre>"
      ],
      "text/plain": [
       "MuData object with n_obs × n_vars = 10 × 300\n",
       "  obs:\t'dataset'\n",
       "  2 modalities\n",
       "    mod1:\tMuData object with n_obs × n_vars = 10 × 300\n",
       "      2 modalities\n",
       "        raw:\t10 x 100\n",
       "          obs:\t'status'\n",
       "        qced:\t8 x 50\n",
       "          obs:\t'status', 'filtered'\n",
       "          var:\t'filtered'\n",
       "    mod2:\t10 x 200"
      ]
     },
     "execution_count": 88,
     "metadata": {},
     "output_type": "execute_result"
    }
   ],
   "source": [
    "mdata = make_nested_mdata()\n",
    "mdata"
   ]
  },
  {
   "cell_type": "code",
   "execution_count": 89,
   "id": "8d864998-27e5-4656-bc11-df215fef504b",
   "metadata": {},
   "outputs": [
    {
     "name": "stdout",
     "output_type": "stream",
     "text": [
      "{'mod1': MuData object with n_obs × n_vars = 10 × 100\n",
      "  2 modalities\n",
      "    raw:\t10 x 100\n",
      "      obs:\t'status'\n",
      "    qced:\t8 x 50\n",
      "      obs:\t'status', 'filtered'\n",
      "      var:\t'filtered', 'mod2': AnnData object with n_obs × n_vars = 10 × 200}\n"
     ]
    }
   ],
   "source": [
    "print(mdata.mod)"
   ]
  },
  {
   "cell_type": "markdown",
   "id": "c86b6c94-f0c8-4be4-8105-4c5fd3a5d264",
   "metadata": {},
   "source": [
    "Propagation is not recursive by intention, and annotations in the inner `mod1` should be explicitely pushed down to individual `AnnData` objects when desired:"
   ]
  },
  {
   "cell_type": "code",
   "execution_count": 90,
   "id": "d2e9ac17-d921-4bf3-b703-3dc63693a79e",
   "metadata": {},
   "outputs": [],
   "source": [
    "mdata.push_obs()"
   ]
  },
  {
   "cell_type": "code",
   "execution_count": 91,
   "id": "37fb4235-6e54-4d1d-b0e7-128f19829f1a",
   "metadata": {},
   "outputs": [
    {
     "name": "stdout",
     "output_type": "stream",
     "text": [
      "dataset    object\n",
      "dtype: object\n",
      "dataset    object\n",
      "dtype: object\n"
     ]
    }
   ],
   "source": [
    "for m, mod in mdata.mod.items():\n",
    "    print(mod.obs.dtypes)"
   ]
  },
  {
   "cell_type": "code",
   "execution_count": 92,
   "id": "5a8b17f7-c12b-448b-a1ed-4c5d74c77cd2",
   "metadata": {},
   "outputs": [
    {
     "name": "stdout",
     "output_type": "stream",
     "text": [
      "status    bool\n",
      "dtype: object\n",
      "status      bool\n",
      "filtered    bool\n",
      "dtype: object\n"
     ]
    }
   ],
   "source": [
    "for m, mod in mdata['mod1'].mod.items():\n",
    "    print(mod.obs.dtypes)"
   ]
  },
  {
   "cell_type": "markdown",
   "id": "86ad2e9b-01d6-4b02-ad48-ee46872c7693",
   "metadata": {},
   "source": [
    "An example of the recursive `push_obs()` operation:"
   ]
  },
  {
   "cell_type": "code",
   "execution_count": 93,
   "id": "f58b90a8-23e1-4998-9da4-156d32d7bfb2",
   "metadata": {},
   "outputs": [],
   "source": [
    "def push_obs_rec(mdata: MuData):\n",
    "    mdata.push_obs()\n",
    "    for m, mod in mdata.mod.items():\n",
    "        if isinstance(mod, MuData):\n",
    "            push_obs_rec(mod)"
   ]
  },
  {
   "cell_type": "code",
   "execution_count": 94,
   "id": "fbf6485c-66f4-4b50-937a-512717f9ccbb",
   "metadata": {},
   "outputs": [],
   "source": [
    "push_obs_rec(mdata)"
   ]
  },
  {
   "cell_type": "code",
   "execution_count": 95,
   "id": "48cdc886-13fa-4bd0-92dd-f4b483127f1e",
   "metadata": {},
   "outputs": [],
   "source": [
    "for m, mod in mdata['mod1'].mod.items():\n",
    "    assert \"dataset\" in mod.obs"
   ]
  },
  {
   "cell_type": "markdown",
   "id": "7f5719ee-2751-4fd3-a10f-38e4d6269f5a",
   "metadata": {},
   "source": [
    " "
   ]
  }
 ],
 "metadata": {
  "kernelspec": {
   "display_name": "ad0.9 (issue126)",
   "language": "python",
   "name": "issue126"
  },
  "language_info": {
   "codemirror_mode": {
    "name": "ipython",
    "version": 3
   },
   "file_extension": ".py",
   "mimetype": "text/x-python",
   "name": "python",
   "nbconvert_exporter": "python",
   "pygments_lexer": "ipython3",
   "version": "3.10.0"
  }
 },
 "nbformat": 4,
 "nbformat_minor": 5
}
